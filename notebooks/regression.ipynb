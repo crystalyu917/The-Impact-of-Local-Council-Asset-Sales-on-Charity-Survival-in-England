{
 "cells": [
  {
   "cell_type": "code",
   "execution_count": null,
   "id": "8c8497ff",
   "metadata": {},
   "outputs": [],
   "source": [
    "import pandas as pd\n",
    "import numpy as np\n",
    "import statsmodels.formula.api as smf\n",
    "import itertools\n",
    "from statsmodels.tsa.stattools import adfuller\n",
    "from statsmodels.tsa.stattools import coint\n",
    "from statsmodels.tsa.stattools import grangercausalitytests\n",
    "from statsmodels.iolib.summary2 import summary_col\n",
    "import seaborn as sns\n",
    "import matplotlib.pyplot as plt"
   ]
  },
  {
   "cell_type": "code",
   "execution_count": null,
   "id": "274c12f8",
   "metadata": {},
   "outputs": [],
   "source": [
    "filtered_panel = pd.read_csv(r'../data/processed/final_panel_data.csv')"
   ]
  },
  {
   "cell_type": "code",
   "execution_count": null,
   "id": "8f66c83c",
   "metadata": {},
   "outputs": [],
   "source": [
    "test = filtered_panel.groupby('local_authority').size().reset_index(name=\"value\")\n",
    "test[test[\"value\"]!=27]"
   ]
  },
  {
   "cell_type": "code",
   "execution_count": null,
   "id": "a3f939c7",
   "metadata": {},
   "outputs": [],
   "source": [
    "# ADF test on 'removals'\n",
    "result_removals = adfuller(filtered_panel['removals'].dropna())\n",
    "print(\"ADF Test for 'removals':\")\n",
    "print(f\"ADF Statistic: {result_removals[0]}\")\n",
    "print(f\"p-value: {result_removals[1]}\")\n",
    "print(f\"Critical Values: {result_removals[4]}\\n\")\n",
    "\n",
    "# ADF test on 'value'\n",
    "result_value = adfuller(filtered_panel['value'].dropna())\n",
    "print(\"ADF Test for 'value':\")\n",
    "print(f\"ADF Statistic: {result_value[0]}\")\n",
    "print(f\"p-value: {result_value[1]}\")\n",
    "print(f\"Critical Values: {result_value[4]}\")"
   ]
  },
  {
   "cell_type": "code",
   "execution_count": null,
   "id": "53aaf298",
   "metadata": {},
   "outputs": [],
   "source": [
    "# Run Engle-Granger cointegration test\n",
    "coint_stat, p_value, crit_values = coint(filtered_panel['removals'], filtered_panel['value'])\n",
    "\n",
    "print(f\"Engle-Granger Cointegration Test\")\n",
    "print(f\"Test Statistic: {coint_stat}\")\n",
    "print(f\"p-value: {p_value}\")\n",
    "print(f\"Critical Values: {crit_values}\")"
   ]
  },
  {
   "cell_type": "code",
   "execution_count": null,
   "id": "fad2c400",
   "metadata": {},
   "outputs": [],
   "source": [
    "# Format data as a two-column array: [removals, value]\n",
    "data = filtered_panel[['removals', 'value']].dropna()\n",
    "\n",
    "# Run Granger causality test with up to 3 lags\n",
    "grangercausalitytests(data, maxlag=3)"
   ]
  },
  {
   "cell_type": "code",
   "execution_count": null,
   "id": "e4a0de99",
   "metadata": {},
   "outputs": [],
   "source": [
    "# Prepare data: ensure it's sorted and aligned\n",
    "df = filtered_panel[['removals', 'value']].dropna().copy()\n",
    "df = df.astype(float)\n",
    "\n",
    "# Run Granger causality test: does 'removals' Granger-cause 'value'?\n",
    "# maxlag = 3 for testing 1, 2, 3 lags\n",
    "reverse_granger_results = grangercausalitytests(df[['value', 'removals']], maxlag=3, verbose=True)\n"
   ]
  },
  {
   "cell_type": "code",
   "execution_count": null,
   "id": "e019342f",
   "metadata": {},
   "outputs": [],
   "source": [
    "# Run OLS regression with fixed effects for LA and year\n",
    "model = smf.ols(\n",
    "    formula='removals ~ value + C(local_authority) + C(financial_year) + C(size_category)+value:C(size_category)',\n",
    "    data=filtered_panel\n",
    ").fit()\n",
    "\n",
    "print(model.summary())"
   ]
  },
  {
   "cell_type": "code",
   "execution_count": null,
   "id": "72cefcb7",
   "metadata": {},
   "outputs": [],
   "source": [
    "print(model.summary().as_latex())"
   ]
  },
  {
   "cell_type": "code",
   "execution_count": null,
   "id": "4a3b70a3",
   "metadata": {},
   "outputs": [],
   "source": [
    "model = smf.ols(\n",
    "    formula=(\n",
    "        'removals ~ '\n",
    "        'value + value_lag1 + value_lag2 + value_lag3 + '\n",
    "        'C(local_authority) + C(financial_year) + C(size_category) + '\n",
    "        'value:C(size_category) + '\n",
    "        'value_lag1:C(size_category) + '\n",
    "        'value_lag2:C(size_category) + '\n",
    "        'value_lag3:C(size_category)'\n",
    "    ),\n",
    "    data=filtered_panel\n",
    ").fit()\n",
    "\n",
    "print(model.summary())\n"
   ]
  },
  {
   "cell_type": "code",
   "execution_count": null,
   "id": "5b342423",
   "metadata": {},
   "outputs": [],
   "source": [
    "print(model.summary().as_latex())"
   ]
  },
  {
   "cell_type": "code",
   "execution_count": null,
   "id": "a04c0058",
   "metadata": {},
   "outputs": [],
   "source": [
    "import pandas as pd\n",
    "from pandas.api.types import CategoricalDtype\n",
    "from sklearn.model_selection import train_test_split\n",
    "import statsmodels.formula.api as smf\n",
    "from sklearn.metrics import r2_score, mean_squared_error\n",
    "\n",
    "# ----------------------------\n",
    "# Step 1: Ensure consistent categorical dtype\n",
    "# ----------------------------\n",
    "filtered_panel['financial_year'] = pd.Categorical(\n",
    "    filtered_panel['financial_year'],\n",
    "    categories=sorted(filtered_panel['financial_year'].unique())\n",
    ")\n",
    "filtered_panel['local_authority'] = pd.Categorical(\n",
    "    filtered_panel['local_authority'],\n",
    "    categories=sorted(filtered_panel['local_authority'].unique())\n",
    ")\n",
    "filtered_panel['size_category'] = pd.Categorical(\n",
    "    filtered_panel['size_category'],\n",
    "    categories=sorted(filtered_panel['size_category'].unique())\n",
    ")\n",
    "\n",
    "# ----------------------------\n",
    "# Step 2: Stratified 70/30 split within each financial year\n",
    "# ----------------------------\n",
    "train_list = []\n",
    "test_list = []\n",
    "\n",
    "for year in filtered_panel['financial_year'].cat.categories:\n",
    "    year_data = filtered_panel[filtered_panel['financial_year'] == year]\n",
    "    if len(year_data) > 1:\n",
    "        train_split, test_split = train_test_split(\n",
    "            year_data, test_size=0.3, random_state=42\n",
    "        )\n",
    "        train_list.append(train_split)\n",
    "        test_list.append(test_split)\n",
    "    else:\n",
    "        train_list.append(year_data)\n",
    "\n",
    "train_data = pd.concat(train_list)\n",
    "test_data = pd.concat(test_list)\n",
    "\n",
    "# ----------------------------\n",
    "# Step 3: Clean test set — drop rows with missing lag values\n",
    "# ----------------------------\n",
    "required_vars = [\n",
    "    'value', 'value_lag1', 'value_lag2', 'value_lag3',\n",
    "    'local_authority', 'financial_year', 'size_category'\n",
    "]\n",
    "\n",
    "test_data_clean = test_data.dropna(subset=required_vars).copy()\n",
    "\n",
    "# Match categories between train and test\n",
    "for col in ['financial_year', 'local_authority', 'size_category']:\n",
    "    test_data_clean[col] = pd.Categorical(\n",
    "        test_data_clean[col],\n",
    "        categories=train_data[col].cat.categories\n",
    "    )\n",
    "\n",
    "# ----------------------------\n",
    "# Step 4: Fit the model\n",
    "# ----------------------------\n",
    "train_model = smf.ols(\n",
    "    formula=(\n",
    "        'removals ~ '\n",
    "        'value + value_lag1 + value_lag2 + value_lag3 + '\n",
    "        'C(local_authority) + C(financial_year) + C(size_category) + '\n",
    "        'value:C(size_category) + '\n",
    "        'value_lag1:C(size_category) + '\n",
    "        'value_lag2:C(size_category) + '\n",
    "        'value_lag3:C(size_category)'\n",
    "    ),\n",
    "    data=train_data\n",
    ").fit()\n",
    "\n",
    "# ----------------------------\n",
    "# Step 5: Predict and evaluate\n",
    "# ----------------------------\n",
    "y_pred = train_model.predict(test_data_clean)\n",
    "y_true = test_data_clean['removals']\n",
    "\n",
    "print(\"Test R-squared:\", r2_score(y_true, y_pred))\n",
    "print(\"Test RMSE:\", mean_squared_error(y_true, y_pred) ** 0.5)\n",
    "print(\"Training R-squared:\", train_model.rsquared)\n",
    "\n"
   ]
  },
  {
   "cell_type": "code",
   "execution_count": null,
   "id": "fb92e072",
   "metadata": {},
   "outputs": [],
   "source": [
    "top10_removals = filtered_panel.sort_values('removals', ascending=False).head(30)\n",
    "print(top10_removals[['local_authority', 'financial_year', 'removals', 'value', 'size_category']])"
   ]
  },
  {
   "cell_type": "code",
   "execution_count": null,
   "id": "6b2b6d23",
   "metadata": {},
   "outputs": [],
   "source": [
    "filtered_panel_1 = filtered_panel.copy()\n",
    "filtered_panel_1['value_thousands'] = filtered_panel_1['value'] * 1000\n",
    "\n",
    "sns.lmplot(\n",
    "    data=filtered_panel_1,\n",
    "    x='value_thousands', y='removals',\n",
    "    hue='size_category',  # group by charity size\n",
    "    lowess=True,\n",
    "    scatter_kws={'alpha':0.3},\n",
    "    line_kws={'linewidth':2},\n",
    "    height=5, aspect=1.2\n",
    ")\n",
    "\n",
    "plt.xlabel('Capital Receipts (£1,000)')\n",
    "plt.ylabel('Charity Removals')\n",
    "plt.title('Removals vs Capital Receipts by Charity Size')\n",
    "plt.show()"
   ]
  },
  {
   "cell_type": "code",
   "execution_count": null,
   "id": "37628986",
   "metadata": {},
   "outputs": [],
   "source": [
    "sns.lmplot(\n",
    "    data=filtered_panel_1,\n",
    "    x='value_thousands', y='removals',\n",
    "    hue='size_category',\n",
    "    lowess=True,\n",
    "    scatter_kws={'alpha':0.3},\n",
    "    line_kws={'linewidth':2},\n",
    "    height=5, aspect=1.2\n",
    ")\n",
    "\n",
    "plt.xlabel('Capital Receipts (£1,000)')\n",
    "plt.ylabel('Charity Removals')\n",
    "plt.title('Removals vs Capital Receipts by Charity Size')\n",
    "plt.xlim(0, 100000)  # limit to £100 million\n",
    "plt.show()\n"
   ]
  },
  {
   "cell_type": "code",
   "execution_count": null,
   "id": "5964beeb",
   "metadata": {},
   "outputs": [],
   "source": [
    "sns.lmplot(\n",
    "    data=filtered_panel_1,\n",
    "    x='value_thousands', y='removals',\n",
    "    hue='size_category',\n",
    "    hue_order=['Small', 'Medium', 'Large'],  # green on top, then orange, then blue\n",
    "    lowess=True,\n",
    "    scatter_kws={'alpha': 0.3},\n",
    "    line_kws={'linewidth': 2},\n",
    "    height=5, aspect=1.2\n",
    ")\n",
    "plt.xlabel('Capital Receipts per Council (£1,000)')\n",
    "plt.ylabel('Number of Charity Removals')\n",
    "plt.title('Removals vs Capital Receipts by Charity Size')\n",
    "plt.xlim(0, 100000)\n",
    "plt.show()"
   ]
  }
 ],
 "metadata": {
  "kernelspec": {
   "display_name": "Python 3",
   "language": "python",
   "name": "python3"
  },
  "language_info": {
   "codemirror_mode": {
    "name": "ipython",
    "version": 3
   },
   "file_extension": ".py",
   "mimetype": "text/x-python",
   "name": "python",
   "nbconvert_exporter": "python",
   "pygments_lexer": "ipython3",
   "version": "3.13.3"
  }
 },
 "nbformat": 4,
 "nbformat_minor": 5
}
