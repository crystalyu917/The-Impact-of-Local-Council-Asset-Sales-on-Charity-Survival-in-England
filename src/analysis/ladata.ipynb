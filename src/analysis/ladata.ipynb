{
 "cells": [
  {
   "cell_type": "code",
   "execution_count": 1,
   "id": "17b463f6",
   "metadata": {},
   "outputs": [],
   "source": [
    "import pandas as pd\n",
    "import numpy as np\n",
    "import statsmodels.formula.api as smf"
   ]
  },
  {
   "cell_type": "code",
   "execution_count": 2,
   "id": "7e2d4e44",
   "metadata": {},
   "outputs": [
    {
     "name": "stderr",
     "output_type": "stream",
     "text": [
      "C:\\Users\\User\\AppData\\Local\\Temp\\ipykernel_18540\\925063635.py:1: DtypeWarning: Columns (10) have mixed types. Specify dtype option on import or set low_memory=False.\n",
      "  dataset = pd.read_csv(r'../../data/processed/charity_main_cleaned.csv')\n"
     ]
    }
   ],
   "source": [
    "dataset = pd.read_csv(r'../../data/processed/charity_main_cleaned.csv')\n",
    "ladataset = pd.read_excel(r'../../data/raw/Local_government_finance_data_download.xlsx',sheet_name='Spending power totals')\n",
    "housing_net_supply_df = pd.read_excel('../../data/raw/Local-authority-housing-supply.xlsx', sheet_name='Net supply')\n",
    "housing_stock_df = pd.read_excel('../../data/raw/Local-authority-housing-supply.xlsx', sheet_name='Housing stock')\n",
    "population = pd.read_excel('../../data/raw/population_by_age.xlsx', sheet_name='Age bands')"
   ]
  },
  {
   "cell_type": "code",
   "execution_count": 3,
   "id": "471f82ee",
   "metadata": {},
   "outputs": [
    {
     "data": {
      "text/plain": [
       "Index(['registered_charity_number', 'charity_name', 'postcode',\n",
       "       'charity_status', 'charity_type', 'date_of_registration',\n",
       "       'date_of_removal', 'latest_income', 'charity_activities',\n",
       "       'charity_has_land', 'companyNumber', 'local_authority', 'size_category',\n",
       "       'classification_description', 'registration_year', 'removal_year',\n",
       "       'registration_month', 'removal_month', 'registration_fy', 'removal_fy',\n",
       "       'classification_other_charitable_activities',\n",
       "       'classification_the_prevention_or_relief_of_poverty', 'Children_Youth',\n",
       "       'Economic_Social Development', 'Economic_Social_Development',\n",
       "       'Education_Research', 'Environment_Animals', 'Grants_Related',\n",
       "       'Health_Disability', 'Housing_Infrastructure', 'Human_Rights_Advocacy',\n",
       "       'Other_Miscellaneous', 'Overseas_Famine_Relief', 'Religion_Faith'],\n",
       "      dtype='object')"
      ]
     },
     "execution_count": 3,
     "metadata": {},
     "output_type": "execute_result"
    }
   ],
   "source": [
    "dataset.columns"
   ]
  },
  {
   "cell_type": "code",
   "execution_count": null,
   "id": "dca0107c",
   "metadata": {},
   "outputs": [],
   "source": [
    "# Step 1: Calculate total 2024 housing stock per council (Local authority only)\n",
    "stock_2024 = (\n",
    "    housing_stock_df\n",
    "    .groupby(['Authority_code', 'Authority_name'], as_index=False)['LA_number']\n",
    "    .sum()\n",
    "    .rename(columns={'LA_number': 'Stock_2024'})\n",
    ")\n",
    "\n",
    "# Step 2: Prepare Net Supply Data\n",
    "net = housing_net_supply_df.copy()\n",
    "net = net[net['Year'].astype(str).str.match(r'^\\d{4}/\\d{2}$')]  # Keep only year-formatted rows\n",
    "net['Year'] = net['Year'].str[:4].astype(int)  # Convert '2015/16' → 2015\n",
    "\n",
    "# Pivot to Local Authority x Year format\n",
    "net_pivot = net.pivot(index='LA_code', columns='Year', values='Net_additions').fillna(0)\n",
    "net_pivot = net_pivot[sorted(net_pivot.columns, reverse=True)]  # descending order\n",
    "\n",
    "# Step 3: Merge with 2024 stock\n",
    "stock = stock_2024.set_index('Authority_code')\n",
    "net_pivot = net_pivot.reindex(stock.index)  # align index\n",
    "\n",
    "# Step 4: Calculate total stock backwards from 2024\n",
    "stock_by_year = pd.DataFrame(index=net_pivot.index)\n",
    "stock_by_year[2024] = stock['Stock_2024']\n",
    "\n",
    "for year in sorted(net_pivot.columns, reverse=True):\n",
    "    if year < 2024:\n",
    "        stock_by_year[year] = stock_by_year[year + 1] - net_pivot[year]\n",
    "\n",
    "# Step 5: Merge back Authority name and reshape\n",
    "stock_by_year = stock_by_year.merge(stock[['Authority_name']], left_index=True, right_index=True)\n",
    "stock_by_year_reset = stock_by_year.reset_index().melt(id_vars=['Authority_code', 'Authority_name'], \n",
    "                                                       var_name='Year', value_name='Housing stock')\n",
    "\n",
    "# Final pivot\n",
    "stock_by_year_pivot = stock_by_year_reset.pivot(index=['Authority_code', 'Authority_name'], \n",
    "                                                 columns='Year', values='Housing stock').sort_index(axis=1)\n",
    "\n",
    "# Reset index, rename, and set it again\n",
    "stock_by_year_pivot = stock_by_year_pivot.reset_index().rename(columns={'Authority_code': 'ONS code'})\n",
    "stock_by_year_pivot = stock_by_year_pivot.set_index(['ONS code', 'Authority_name'])\n"
   ]
  },
  {
   "cell_type": "code",
   "execution_count": null,
   "id": "820a5262",
   "metadata": {},
   "outputs": [],
   "source": [
    "# Filter: Remove NaN and keep only rows where 'Year' matches 'YYYY/YY'\n",
    "ladataset_filtered = ladataset[\n",
    "    ladataset['Year'].notna() & ladataset['Year'].str.match(r'^\\d{4}/\\d{2}$')\n",
    "]\n",
    "ladataset_filtered['Year'] = ladataset_filtered['Year'].str[:4].astype(int)\n",
    "\n",
    "# Pivot\n",
    "ladataset_pivot = ladataset_filtered.pivot_table(\n",
    "    index=['ONS code', 'Local authority', 'Measure'],\n",
    "    columns='Year',\n",
    "    values='£ millions, cash terms',\n",
    "    aggfunc='sum'\n",
    ").reset_index()\n",
    "\n",
    "# Group by 'con_code' only\n",
    "population_summary = (\n",
    "    population\n",
    "    .groupby('con_code', as_index=False)\n",
    "    .agg({'con_name': 'first', 'con_number': 'sum'})\n",
    "    .rename(columns={'con_name': 'Local authority', 'con_number': 'Total Population'})\n",
    ")\n",
    "\n",
    "# Display the result\n",
    "print(population_summary.head())\n"
   ]
  },
  {
   "cell_type": "code",
   "execution_count": null,
   "id": "d19f4866",
   "metadata": {},
   "outputs": [],
   "source": [
    "# Filter for Core Spending Power (CSP)\n",
    "csp = ladataset_pivot.copy()\n",
    "\n",
    "# Keep only relevant years\n",
    "csp = csp.set_index(['ONS code', 'Local authority']).drop(columns='Measure')\n",
    "\n",
    "# Calculate % change from 2015\n",
    "csp['financial_distress'] = (csp[2024] - csp[2015]) / csp[2015]\n",
    "\n",
    "fd = csp[['financial_distress']].reset_index()\n",
    "\n",
    "fd.columns.name = None\n",
    "housing_stock_processed = housing_stock_df[housing_stock_df['Tenure'] == 'Local authority'][['Authority_code', 'LA_number']]\n",
    "fd_new = fd.merge(housing_stock_processed, left_on='ONS code', right_on='Authority_code', how='inner')\n",
    "fd_new = fd_new.drop(columns='Authority_code')\n",
    "fd_new = fd_new.rename(columns={'LA_number': 'LA Housing stock 2024'})\n"
   ]
  },
  {
   "cell_type": "code",
   "execution_count": null,
   "id": "102acaf8",
   "metadata": {},
   "outputs": [],
   "source": [
    "# Step 1: Normalise both variables\n",
    "fd_new['financial_distress_norm'] = (\n",
    "    (fd_new['financial_distress'] - fd_new['financial_distress'].min()) /\n",
    "    (fd_new['financial_distress'].max() - fd_new['financial_distress'].min())\n",
    ")\n",
    "\n",
    "fd_new['LA Housing stock 2024_norm'] = (\n",
    "    (fd_new['LA Housing stock 2024'] - fd_new['LA Housing stock 2024'].min()) /\n",
    "    (fd_new['LA Housing stock 2024'].max() - fd_new['LA Housing stock 2024'].min())\n",
    ")\n",
    "\n",
    "# Step 2: Avoid division by zero and calculate treatment\n",
    "fd_new['treatment'] = np.where(\n",
    "    fd_new['LA Housing stock 2024_norm'] != 0,\n",
    "    fd_new['financial_distress_norm'] / fd_new['LA Housing stock 2024_norm'],\n",
    "    0\n",
    ")\n",
    "fd_new.rename(columns={'Local authority': 'local_authority'}, inplace=True)"
   ]
  },
  {
   "cell_type": "code",
   "execution_count": null,
   "id": "8cae7edf",
   "metadata": {},
   "outputs": [],
   "source": [
    "# Step 2: Filter valid rows\n",
    "removed = dataset[dataset['removal_fy'].notnull() & dataset['local_authority'].notnull()].copy()\n",
    "removed['removal_fy'] = removed['removal_fy'].astype(int)\n",
    "\n",
    "# Step 3: Group by financial year and local authority\n",
    "removed_by_fy_la = (\n",
    "    removed\n",
    "    .groupby(['local_authority', 'removal_fy'])\n",
    "    .size()\n",
    "    .unstack(fill_value=0)\n",
    "    .sort_index(axis=1)\n",
    ")\n",
    "\n",
    "# Step 4: Keep only FY 2015–2024\n",
    "fy_years = list(range(2015, 2025))\n",
    "removed_by_fy_la = removed_by_fy_la[removed_by_fy_la.columns.intersection(fy_years)]\n",
    "\n",
    "# Step 5: Total and sort\n",
    "removed_by_fy_la['Total'] = removed_by_fy_la.sum(axis=1)\n",
    "removed_by_fy_la = removed_by_fy_la.sort_values(by='Total', ascending=False)\n",
    "\n",
    "# Step 6: Preview top 10\n",
    "print(\"Removed Charities per Financial Year per Local Authority (FY 2015–2024):\")\n",
    "print(removed_by_fy_la.head(10))"
   ]
  },
  {
   "cell_type": "code",
   "execution_count": null,
   "id": "432a02ba",
   "metadata": {},
   "outputs": [],
   "source": [
    "# Step 1: Define year range\n",
    "years = list(range(2015, 2025))\n",
    "\n",
    "# Step 2: Calculate percentage change across years\n",
    "removed_pct_change = removed_by_fy_la[years].pct_change(axis=1) * 100\n",
    "\n",
    "# Step 3: Round for readability\n",
    "removed_pct_change = removed_pct_change.round(2)\n",
    "removed_pct_change"
   ]
  },
  {
   "cell_type": "code",
   "execution_count": null,
   "id": "3147f4f7",
   "metadata": {},
   "outputs": [],
   "source": [
    "removed_long = (\n",
    "    removed_pct_change\n",
    "    .reset_index()\n",
    "    .melt(id_vars='local_authority', var_name='Year', value_name='removed_rate')\n",
    ")\n",
    "removed_long['Year'] = removed_long['Year'].astype(int)\n",
    "\n",
    "# Add treatment, post, and controls\n",
    "panel_df = removed_long.merge(fd_new, on='local_authority', how='left')\n",
    "panel_df['post'] = (panel_df['Year'] >= 2021).astype(int)\n",
    "panel_df['treatment_post'] = panel_df['treatment'] * panel_df['post']\n",
    "\n",
    "panel_df = panel_df[np.isfinite(panel_df['removed_rate'])]\n",
    "panel_df['removed_rate'].dropna(inplace=True)\n",
    "panel_df.drop(columns=['ONS code'], inplace=True)"
   ]
  },
  {
   "cell_type": "code",
   "execution_count": null,
   "id": "ef7f6a88",
   "metadata": {},
   "outputs": [],
   "source": [
    "panel_df"
   ]
  },
  {
   "cell_type": "code",
   "execution_count": null,
   "id": "ba802623",
   "metadata": {},
   "outputs": [],
   "source": [
    "model = smf.ols('removed_rate ~ post + treatment + C(local_authority)+ treatment:post', data=panel_df).fit()\n",
    "summary = model.summary()\n",
    "print(summary.tables[0])  # Overview: R², F-stat, etc.\n",
    "print(summary.tables[1].as_text())  # Full coefficient table\n"
   ]
  }
 ],
 "metadata": {
  "kernelspec": {
   "display_name": "Python 3",
   "language": "python",
   "name": "python3"
  },
  "language_info": {
   "codemirror_mode": {
    "name": "ipython",
    "version": 3
   },
   "file_extension": ".py",
   "mimetype": "text/x-python",
   "name": "python",
   "nbconvert_exporter": "python",
   "pygments_lexer": "ipython3",
   "version": "3.13.3"
  }
 },
 "nbformat": 4,
 "nbformat_minor": 5
}
