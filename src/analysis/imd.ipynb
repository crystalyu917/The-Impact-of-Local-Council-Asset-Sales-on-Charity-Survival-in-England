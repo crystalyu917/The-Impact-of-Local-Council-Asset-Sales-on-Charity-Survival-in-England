{
 "cells": [
  {
   "cell_type": "code",
   "execution_count": 1,
   "id": "6639644b",
   "metadata": {},
   "outputs": [],
   "source": [
    "import pandas as pd\n",
    "import statsmodels.formula.api as smf"
   ]
  },
  {
   "cell_type": "code",
   "execution_count": 2,
   "id": "973c0430",
   "metadata": {},
   "outputs": [],
   "source": [
    "dataset = pd.read_excel(\"../../data/raw/File_10_-_IoD2019_Local_Authority_District_Summaries__lower-tier__.xlsx\", sheet_name=\"IMD\")\n",
    "filtered_panel = pd.read_csv(r'../../data/processed/final_panel_data.csv')"
   ]
  },
  {
   "cell_type": "code",
   "execution_count": 3,
   "id": "e77db526",
   "metadata": {},
   "outputs": [],
   "source": [
    "dataset = dataset.rename(columns={'Local Authority District name (2019)': 'local_authority'})\n",
    "dataset['local_authority'] = dataset['local_authority'].str.lower().str.strip()\n",
    "dataset = dataset.rename(columns={'IMD - Average score ': 'imd_score'})\n",
    "dataset['local_authority'] = (\n",
    "    dataset['local_authority']\n",
    "    .str.lower()\n",
    "    .str.replace('-', ' ', regex=False)\n",
    "    .str.replace(',', ' ', regex=False)\n",
    "    .str.replace(r'\\s+', ' ', regex=True)\n",
    "    .str.strip()\n",
    ")\n",
    "dataset['local_authority'] = dataset['local_authority'].replace({\n",
    "    #'barrow in furness': 'westmorland and furness',\n",
    "    #'north somerset': 'somerset',\n",
    "    'kingston upon hull city of': 'kingston upon hull',\n",
    "    'herefordshire county of': 'herefordshire',\n",
    "    'bristol city of': 'bristol',\n",
    "    #'southend on sea': 'southend-on-sea',\n",
    "    'st. helens': 'st helens', \n",
    "})\n",
    "unified_map = {\n",
    "    'buckinghamshire': ['aylesbury vale', 'chiltern', 'south bucks', 'wycombe','south buckinghamshire'],\n",
    "    'dorset': ['weymouth and portland', 'west dorset', 'north dorset', 'east dorset', 'purbeck', 'christchurch'],\n",
    "    'somerset': ['taunton deane', 'west somerset', 'mendip', 'sedgemoor', 'south somerset', 'somerset council','somerset west and taunton'],\n",
    "    'cumberland': ['allerdale', 'carlisle', 'copeland', 'cumberland council'],\n",
    "    'westmorland and furness': ['barrow in furness', 'barrow-in-furness', 'eden', 'south lakeland'],\n",
    "    'north yorkshire': ['craven', 'hambleton', 'harrogate', 'richmondshire', 'ryedale', 'scarborough', 'selby', 'north yorkshire council'],\n",
    "    'bournemouth christchurch and poole': ['bournemouth', 'christchurch', 'poole'],\n",
    "    'west suffolk': ['forest heath', 'st edmundsbury'],\n",
    "    'east suffolk': ['suffolk coastal', 'waveney'],\n",
    "    'bath and north east somerset': ['bath and ne somerset'],\n",
    "    'southend-on-sea': ['southend on sea'],\n",
    "    'leicester': ['leicester city'],\n",
    "    'medway': ['medway towns'],\n",
    "    'derby': ['derby city'],\n",
    "    'folkestone and hythe': ['shepway'],\n",
    "    'county durham': ['durham'],\n",
    "    \"king's lynn and west norfolk\": ['kings lynn and west norfolk'],\n",
    "    'north northamptonshire': ['wellingborough', 'east northamptonshire', 'kettering', 'corby'],\n",
    "    'west northamptonshire': ['northampton', 'south northamptonshire', 'daventry'],\n",
    "}\n",
    "# Create reverse mapping: value → key\n",
    "reverse_map = {\n",
    "    alt_name: unified for unified, alts in unified_map.items() for alt_name in alts\n",
    "}\n",
    "\n",
    "# Replace values in dataset['local_authority'] using the reverse_map\n",
    "dataset['local_authority'] = dataset['local_authority'].replace(reverse_map)\n",
    "\n",
    "dataset = (\n",
    "    dataset.groupby('local_authority', as_index=False)['imd_score']\n",
    "    .mean()\n",
    ")\n"
   ]
  },
  {
   "cell_type": "code",
   "execution_count": 4,
   "id": "4a3dc527",
   "metadata": {},
   "outputs": [],
   "source": [
    "filtered_panel = filtered_panel.merge(\n",
    "    dataset[['local_authority', 'imd_score']],\n",
    "    on='local_authority',\n",
    "    how='left'\n",
    ")"
   ]
  },
  {
   "cell_type": "code",
   "execution_count": 5,
   "id": "554f9ef4",
   "metadata": {},
   "outputs": [
    {
     "data": {
      "text/plain": [
       "array([], dtype=object)"
      ]
     },
     "execution_count": 5,
     "metadata": {},
     "output_type": "execute_result"
    }
   ],
   "source": [
    "filtered_panel.loc[filtered_panel['imd_score'].isna(), 'local_authority'].unique()"
   ]
  },
  {
   "cell_type": "code",
   "execution_count": 6,
   "id": "9f7378a5",
   "metadata": {},
   "outputs": [
    {
     "name": "stdout",
     "output_type": "stream",
     "text": [
      "                            OLS Regression Results                            \n",
      "==============================================================================\n",
      "Dep. Variable:               removals   R-squared:                       0.500\n",
      "Model:                            OLS   Adj. R-squared:                  0.498\n",
      "Method:                 Least Squares   F-statistic:                     264.9\n",
      "Date:                Fri, 25 Jul 2025   Prob (F-statistic):               0.00\n",
      "Time:                        15:24:00   Log-Likelihood:                -15969.\n",
      "No. Observations:                5322   AIC:                         3.198e+04\n",
      "Df Residuals:                    5301   BIC:                         3.212e+04\n",
      "Df Model:                          20                                         \n",
      "Covariance Type:            nonrobust                                         \n",
      "=========================================================================================================\n",
      "                                            coef    std err          t      P>|t|      [0.025      0.975]\n",
      "---------------------------------------------------------------------------------------------------------\n",
      "Intercept                                 0.8931      0.179      4.980      0.000       0.541       1.245\n",
      "C(financial_year)[T.2016]              1.023e-14      3e-16     34.117      0.000    9.64e-15    1.08e-14\n",
      "C(financial_year)[T.2017]             -1.197e-14   5.56e-16    -21.551      0.000   -1.31e-14   -1.09e-14\n",
      "C(financial_year)[T.2018]                 0.3013      0.153      1.975      0.048       0.002       0.600\n",
      "C(financial_year)[T.2019]                 1.3945      0.153      9.127      0.000       1.095       1.694\n",
      "C(financial_year)[T.2020]                -1.0233      0.153     -6.697      0.000      -1.323      -0.724\n",
      "C(financial_year)[T.2021]                 0.9676      0.153      6.338      0.000       0.668       1.267\n",
      "C(financial_year)[T.2022]                -0.2485      0.154     -1.618      0.106      -0.550       0.053\n",
      "C(financial_year)[T.2023]                -0.4986      0.153     -3.255      0.001      -0.799      -0.198\n",
      "C(size_category)[T.Medium]                2.2651      0.188     12.023      0.000       1.896       2.634\n",
      "C(size_category)[T.Small]                 7.9965      0.188     42.442      0.000       7.627       8.366\n",
      "value                                     0.0063      0.011      0.583      0.560      -0.015       0.027\n",
      "value:C(size_category)[T.Medium]          0.0050      0.015      0.332      0.740      -0.025       0.035\n",
      "value:C(size_category)[T.Small]           0.0329      0.015      2.164      0.031       0.003       0.063\n",
      "value_lag1                                0.0069      0.011      0.642      0.521      -0.014       0.028\n",
      "value_lag1:C(size_category)[T.Medium]     0.0188      0.015      1.234      0.217      -0.011       0.049\n",
      "value_lag1:C(size_category)[T.Small]      0.0562      0.015      3.687      0.000       0.026       0.086\n",
      "value_lag2                                0.0085      0.013      0.671      0.503      -0.016       0.033\n",
      "value_lag2:C(size_category)[T.Medium]     0.0440      0.018      2.468      0.014       0.009       0.079\n",
      "value_lag2:C(size_category)[T.Small]      0.1235      0.018      6.931      0.000       0.089       0.158\n",
      "value_lag3                                0.0075      0.008      0.982      0.326      -0.007       0.022\n",
      "value_lag3:C(size_category)[T.Medium]     0.0218      0.011      2.018      0.044       0.001       0.043\n",
      "value_lag3:C(size_category)[T.Small]      0.0375      0.011      3.474      0.001       0.016       0.059\n",
      "imd_score                                -0.0527      0.009     -6.040      0.000      -0.070      -0.036\n",
      "==============================================================================\n",
      "Omnibus:                     4305.737   Durbin-Watson:                   0.882\n",
      "Prob(Omnibus):                  0.000   Jarque-Bera (JB):           189122.125\n",
      "Skew:                           3.546   Prob(JB):                         0.00\n",
      "Kurtosis:                      31.329   Cond. No.                     2.07e+17\n",
      "==============================================================================\n",
      "\n",
      "Notes:\n",
      "[1] Standard Errors assume that the covariance matrix of the errors is correctly specified.\n",
      "[2] The smallest eigenvalue is 1.81e-28. This might indicate that there are\n",
      "strong multicollinearity problems or that the design matrix is singular.\n"
     ]
    }
   ],
   "source": [
    "model = smf.ols(\n",
    "    formula=(\n",
    "        'removals ~ '\n",
    "        'value + value_lag1 + value_lag2 + value_lag3 + '\n",
    "        'imd_score + C(financial_year) + C(size_category) + '\n",
    "        'value:C(size_category) + '\n",
    "        'value_lag1:C(size_category) + '\n",
    "        'value_lag2:C(size_category) + '\n",
    "        'value_lag3:C(size_category)'\n",
    "    ),\n",
    "    data=filtered_panel\n",
    ").fit()\n",
    "\n",
    "print(model.summary())"
   ]
  }
 ],
 "metadata": {
  "kernelspec": {
   "display_name": "Python 3",
   "language": "python",
   "name": "python3"
  },
  "language_info": {
   "codemirror_mode": {
    "name": "ipython",
    "version": 3
   },
   "file_extension": ".py",
   "mimetype": "text/x-python",
   "name": "python",
   "nbconvert_exporter": "python",
   "pygments_lexer": "ipython3",
   "version": "3.13.3"
  }
 },
 "nbformat": 4,
 "nbformat_minor": 5
}
