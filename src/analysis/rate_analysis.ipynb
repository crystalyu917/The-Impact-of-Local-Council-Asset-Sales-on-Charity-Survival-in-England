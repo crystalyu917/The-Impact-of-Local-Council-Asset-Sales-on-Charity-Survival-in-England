{
 "cells": [
  {
   "cell_type": "code",
   "execution_count": 1,
   "id": "d1a8d159",
   "metadata": {},
   "outputs": [],
   "source": [
    "import pandas as pd\n",
    "import numpy as np\n",
    "import statsmodels.formula.api as smf\n",
    "import itertools\n",
    "from statsmodels.tsa.stattools import adfuller\n",
    "from statsmodels.tsa.stattools import coint\n",
    "from statsmodels.tsa.stattools import grangercausalitytests\n",
    "import seaborn as sns\n",
    "import matplotlib.pyplot as plt"
   ]
  },
  {
   "cell_type": "code",
   "execution_count": 2,
   "id": "f89fcf78",
   "metadata": {},
   "outputs": [],
   "source": [
    "df = pd.read_csv(r'../../data/processed/rate_panel_data.csv')\n",
    "dataset = pd.read_excel(\"../../data/raw/File_10_-_IoD2019_Local_Authority_District_Summaries__lower-tier__.xlsx\", sheet_name=\"IMD\")"
   ]
  },
  {
   "cell_type": "code",
   "execution_count": 3,
   "id": "9f1d4746",
   "metadata": {},
   "outputs": [],
   "source": [
    "df = df[df['financial_year'] != 2014]\n",
    "df = df.dropna(subset=['value'])"
   ]
  },
  {
   "cell_type": "code",
   "execution_count": 4,
   "id": "bf3f0505",
   "metadata": {},
   "outputs": [],
   "source": [
    "dataset = dataset.rename(columns={'Local Authority District name (2019)': 'local_authority'})\n",
    "dataset['local_authority'] = dataset['local_authority'].str.lower().str.strip()\n",
    "dataset = dataset.rename(columns={'IMD - Average score ': 'imd_score'})\n",
    "dataset['local_authority'] = (\n",
    "    dataset['local_authority']\n",
    "    .str.lower()\n",
    "    .str.replace('-', ' ', regex=False)\n",
    "    .str.replace(',', ' ', regex=False)\n",
    "    .str.replace(r'\\s+', ' ', regex=True)\n",
    "    .str.strip()\n",
    ")\n",
    "dataset['local_authority'] = dataset['local_authority'].replace({\n",
    "    #'barrow in furness': 'westmorland and furness',\n",
    "    #'north somerset': 'somerset',\n",
    "    'kingston upon hull city of': 'kingston upon hull',\n",
    "    'herefordshire county of': 'herefordshire',\n",
    "    'bristol city of': 'bristol',\n",
    "    #'southend on sea': 'southend-on-sea',\n",
    "    'st. helens': 'st helens', \n",
    "})\n",
    "unified_map = {\n",
    "    'buckinghamshire': ['aylesbury vale', 'chiltern', 'south bucks', 'wycombe','south buckinghamshire'],\n",
    "    'dorset': ['weymouth and portland', 'west dorset', 'north dorset', 'east dorset', 'purbeck', 'christchurch'],\n",
    "    'somerset': ['taunton deane', 'west somerset', 'mendip', 'sedgemoor', 'south somerset', 'somerset council','somerset west and taunton'],\n",
    "    'cumberland': ['allerdale', 'carlisle', 'copeland', 'cumberland council'],\n",
    "    'westmorland and furness': ['barrow in furness', 'barrow-in-furness', 'eden', 'south lakeland'],\n",
    "    'north yorkshire': ['craven', 'hambleton', 'harrogate', 'richmondshire', 'ryedale', 'scarborough', 'selby', 'north yorkshire council'],\n",
    "    'bournemouth christchurch and poole': ['bournemouth', 'christchurch', 'poole'],\n",
    "    'west suffolk': ['forest heath', 'st edmundsbury'],\n",
    "    'east suffolk': ['suffolk coastal', 'waveney'],\n",
    "    'bath and north east somerset': ['bath and ne somerset'],\n",
    "    'southend-on-sea': ['southend on sea'],\n",
    "    'leicester': ['leicester city'],\n",
    "    'medway': ['medway towns'],\n",
    "    'derby': ['derby city'],\n",
    "    'folkestone and hythe': ['shepway'],\n",
    "    'county durham': ['durham'],\n",
    "    \"king's lynn and west norfolk\": ['kings lynn and west norfolk'],\n",
    "    'north northamptonshire': ['wellingborough', 'east northamptonshire', 'kettering', 'corby'],\n",
    "    'west northamptonshire': ['northampton', 'south northamptonshire', 'daventry'],\n",
    "}\n",
    "# Create reverse mapping: value → key\n",
    "reverse_map = {\n",
    "    alt_name: unified for unified, alts in unified_map.items() for alt_name in alts\n",
    "}\n",
    "\n",
    "# Replace values in dataset['local_authority'] using the reverse_map\n",
    "dataset['local_authority'] = dataset['local_authority'].replace(reverse_map)\n",
    "\n",
    "dataset = (\n",
    "    dataset.groupby('local_authority', as_index=False)['imd_score']\n",
    "    .mean()\n",
    ")\n",
    "df = df.merge(\n",
    "    dataset[['local_authority', 'imd_score']],\n",
    "    on='local_authority',\n",
    "    how='left'\n",
    ")"
   ]
  },
  {
   "cell_type": "code",
   "execution_count": 5,
   "id": "5654ac8f",
   "metadata": {},
   "outputs": [],
   "source": [
    "df['removal_rate_100'] = df['removal_rate']*100\n",
    "df['removal_rate'] = df['removal_rate'].fillna(0)\n"
   ]
  },
  {
   "cell_type": "code",
   "execution_count": 14,
   "id": "d4ac5fad",
   "metadata": {},
   "outputs": [
    {
     "name": "stdout",
     "output_type": "stream",
     "text": [
      "                            OLS Regression Results                            \n",
      "==============================================================================\n",
      "Dep. Variable:       removal_rate_100   R-squared:                       0.171\n",
      "Model:                            OLS   Adj. R-squared:                  0.170\n",
      "Method:                 Least Squares   F-statistic:                     117.3\n",
      "Date:                Thu, 31 Jul 2025   Prob (F-statistic):          1.08e-310\n",
      "Time:                        22:09:57   Log-Likelihood:                -17892.\n",
      "No. Observations:                7953   AIC:                         3.581e+04\n",
      "Df Residuals:                    7938   BIC:                         3.592e+04\n",
      "Df Model:                          14                                         \n",
      "Covariance Type:            nonrobust                                         \n",
      "====================================================================================================\n",
      "                                       coef    std err          t      P>|t|      [0.025      0.975]\n",
      "----------------------------------------------------------------------------------------------------\n",
      "Intercept                            0.7272      0.108      6.744      0.000       0.516       0.939\n",
      "C(financial_year)[T.2016]           -0.2537      0.109     -2.319      0.020      -0.468      -0.039\n",
      "C(financial_year)[T.2017]           -0.0974      0.109     -0.891      0.373      -0.312       0.117\n",
      "C(financial_year)[T.2018]            0.0663      0.109      0.606      0.544      -0.148       0.281\n",
      "C(financial_year)[T.2019]            0.3628      0.109      3.319      0.001       0.148       0.577\n",
      "C(financial_year)[T.2020]           -0.5670      0.109     -5.185      0.000      -0.781      -0.353\n",
      "C(financial_year)[T.2021]            0.3358      0.109      3.072      0.002       0.122       0.550\n",
      "C(financial_year)[T.2022]           -0.4566      0.109     -4.178      0.000      -0.671      -0.242\n",
      "C(financial_year)[T.2023]           -0.4428      0.109     -4.050      0.000      -0.657      -0.228\n",
      "C(size_category)[T.Medium]           0.8908      0.069     13.000      0.000       0.756       1.025\n",
      "C(size_category)[T.Small]            2.3600      0.069     34.440      0.000       2.226       2.494\n",
      "value                               -0.0008      0.002     -0.337      0.736      -0.005       0.004\n",
      "value:C(size_category)[T.Medium]    -0.0037      0.003     -1.130      0.259      -0.010       0.003\n",
      "value:C(size_category)[T.Small]      0.0035      0.003      1.063      0.288      -0.003       0.010\n",
      "imd_score                            0.0128      0.003      3.873      0.000       0.006       0.019\n",
      "==============================================================================\n",
      "Omnibus:                    15132.827   Durbin-Watson:                   2.009\n",
      "Prob(Omnibus):                  0.000   Jarque-Bera (JB):         75007340.144\n",
      "Skew:                          14.204   Prob(JB):                         0.00\n",
      "Kurtosis:                     477.916   Cond. No.                         254.\n",
      "==============================================================================\n",
      "\n",
      "Notes:\n",
      "[1] Standard Errors assume that the covariance matrix of the errors is correctly specified.\n"
     ]
    }
   ],
   "source": [
    "# Run OLS regression with fixed effects for LA and year\n",
    "model = smf.ols(\n",
    "    formula='removal_rate_100 ~ value + imd_score + C(financial_year) + C(size_category) + value:C(size_category)',\n",
    "    data=df\n",
    ").fit()\n",
    "\n",
    "print(model.summary())"
   ]
  },
  {
   "cell_type": "code",
   "execution_count": 7,
   "id": "9f80c073",
   "metadata": {},
   "outputs": [
    {
     "name": "stderr",
     "output_type": "stream",
     "text": [
      "c:\\Users\\User\\AppData\\Local\\Programs\\Python\\Python313\\Lib\\site-packages\\pandas\\core\\arraylike.py:399: RuntimeWarning: invalid value encountered in log1p\n",
      "  result = getattr(ufunc, method)(*inputs, **kwargs)\n"
     ]
    }
   ],
   "source": [
    "df['log_value'] = np.log1p(df['value'])"
   ]
  },
  {
   "cell_type": "code",
   "execution_count": 8,
   "id": "e609625d",
   "metadata": {},
   "outputs": [
    {
     "name": "stdout",
     "output_type": "stream",
     "text": [
      "                            OLS Regression Results                            \n",
      "==============================================================================\n",
      "Dep. Variable:       removal_rate_100   R-squared:                       0.173\n",
      "Model:                            OLS   Adj. R-squared:                  0.172\n",
      "Method:                 Least Squares   F-statistic:                     118.6\n",
      "Date:                Thu, 31 Jul 2025   Prob (F-statistic):          4.79e-314\n",
      "Time:                        22:08:13   Log-Likelihood:                -17861.\n",
      "No. Observations:                7947   AIC:                         3.575e+04\n",
      "Df Residuals:                    7932   BIC:                         3.586e+04\n",
      "Df Model:                          14                                         \n",
      "Covariance Type:            nonrobust                                         \n",
      "========================================================================================================\n",
      "                                           coef    std err          t      P>|t|      [0.025      0.975]\n",
      "--------------------------------------------------------------------------------------------------------\n",
      "Intercept                                0.7482      0.119      6.300      0.000       0.515       0.981\n",
      "C(financial_year)[T.2016]               -0.2520      0.109     -2.309      0.021      -0.466      -0.038\n",
      "C(financial_year)[T.2017]               -0.0965      0.109     -0.885      0.376      -0.310       0.117\n",
      "C(financial_year)[T.2018]                0.0671      0.109      0.615      0.538      -0.147       0.281\n",
      "C(financial_year)[T.2019]                0.3641      0.109      3.340      0.001       0.150       0.578\n",
      "C(financial_year)[T.2020]               -0.5818      0.109     -5.325      0.000      -0.796      -0.368\n",
      "C(financial_year)[T.2021]                0.3337      0.109      3.058      0.002       0.120       0.548\n",
      "C(financial_year)[T.2022]               -0.4569      0.109     -4.190      0.000      -0.671      -0.243\n",
      "C(financial_year)[T.2023]               -0.4423      0.109     -4.054      0.000      -0.656      -0.228\n",
      "C(size_category)[T.Medium]               0.9974      0.106      9.378      0.000       0.789       1.206\n",
      "C(size_category)[T.Small]                2.2081      0.106     20.762      0.000       2.000       2.417\n",
      "log_value                               -0.0201      0.042     -0.485      0.628      -0.102       0.061\n",
      "log_value:C(size_category)[T.Medium]    -0.0894      0.057     -1.558      0.119      -0.202       0.023\n",
      "log_value:C(size_category)[T.Small]      0.1225      0.057      2.135      0.033       0.010       0.235\n",
      "imd_score                                0.0128      0.003      3.773      0.000       0.006       0.019\n",
      "==============================================================================\n",
      "Omnibus:                    15160.049   Durbin-Watson:                   2.007\n",
      "Prob(Omnibus):                  0.000   Jarque-Bera (JB):         76266742.157\n",
      "Skew:                          14.282   Prob(JB):                         0.00\n",
      "Kurtosis:                     482.072   Cond. No.                         205.\n",
      "==============================================================================\n",
      "\n",
      "Notes:\n",
      "[1] Standard Errors assume that the covariance matrix of the errors is correctly specified.\n"
     ]
    }
   ],
   "source": [
    "# Run OLS regression with fixed effects for LA and year\n",
    "model = smf.ols(\n",
    "    formula='removal_rate_100 ~ log_value + imd_score + C(financial_year) + C(size_category) + log_value:C(size_category)',\n",
    "    data=df\n",
    ").fit()\n",
    "\n",
    "print(model.summary())"
   ]
  },
  {
   "cell_type": "code",
   "execution_count": null,
   "id": "9b8c6627",
   "metadata": {},
   "outputs": [
    {
     "name": "stdout",
     "output_type": "stream",
     "text": [
      "                            OLS Regression Results                            \n",
      "==============================================================================\n",
      "Dep. Variable:       removal_rate_100   R-squared:                       0.172\n",
      "Model:                            OLS   Adj. R-squared:                  0.170\n",
      "Method:                 Least Squares   F-statistic:                     126.5\n",
      "Date:                Thu, 31 Jul 2025   Prob (F-statistic):          4.87e-312\n",
      "Time:                        22:14:24   Log-Likelihood:                -17868.\n",
      "No. Observations:                7947   AIC:                         3.576e+04\n",
      "Df Residuals:                    7933   BIC:                         3.586e+04\n",
      "Df Model:                          13                                         \n",
      "Covariance Type:            nonrobust                                         \n",
      "========================================================================================================\n",
      "                                           coef    std err          t      P>|t|      [0.025      0.975]\n",
      "--------------------------------------------------------------------------------------------------------\n",
      "Intercept                                0.9554      0.105      9.066      0.000       0.749       1.162\n",
      "C(financial_year)[T.2016]               -0.2532      0.109     -2.318      0.020      -0.467      -0.039\n",
      "C(financial_year)[T.2017]               -0.0981      0.109     -0.899      0.369      -0.312       0.116\n",
      "C(financial_year)[T.2018]                0.0677      0.109      0.620      0.535      -0.146       0.282\n",
      "C(financial_year)[T.2019]                0.3656      0.109      3.350      0.001       0.152       0.580\n",
      "C(financial_year)[T.2020]               -0.5748      0.109     -5.257      0.000      -0.789      -0.360\n",
      "C(financial_year)[T.2021]                0.3346      0.109      3.064      0.002       0.121       0.549\n",
      "C(financial_year)[T.2022]               -0.4572      0.109     -4.190      0.000      -0.671      -0.243\n",
      "C(financial_year)[T.2023]               -0.4370      0.109     -4.001      0.000      -0.651      -0.223\n",
      "C(size_category)[T.Medium]               0.9970      0.106      9.366      0.000       0.788       1.206\n",
      "C(size_category)[T.Small]                2.2077      0.106     20.740      0.000       1.999       2.416\n",
      "log_value                                0.0101      0.041      0.248      0.804      -0.070       0.090\n",
      "log_value:C(size_category)[T.Medium]    -0.0892      0.057     -1.554      0.120      -0.202       0.023\n",
      "log_value:C(size_category)[T.Small]      0.1227      0.057      2.136      0.033       0.010       0.235\n",
      "==============================================================================\n",
      "Omnibus:                    15154.190   Durbin-Watson:                   2.003\n",
      "Prob(Omnibus):                  0.000   Jarque-Bera (JB):         75938659.896\n",
      "Skew:                          14.271   Prob(JB):                         0.00\n",
      "Kurtosis:                     481.038   Cond. No.                         21.7\n",
      "==============================================================================\n",
      "\n",
      "Notes:\n",
      "[1] Standard Errors assume that the covariance matrix of the errors is correctly specified.\n"
     ]
    }
   ],
   "source": [
    "# Run OLS regression with fixed effects for LA and year\n",
    "model = smf.ols(\n",
    "    formula='removal_rate_100 ~ log_value + imd_score + C(financial_year) + C(size_category) + log_value:C(size_category)',\n",
    "    data=df\n",
    ").fit()\n",
    "\n",
    "print(model.summary())"
   ]
  },
  {
   "cell_type": "code",
   "execution_count": 9,
   "id": "8d7b056d",
   "metadata": {},
   "outputs": [],
   "source": [
    "for lag in [1, 2, 3]:\n",
    "    df[f'log_value_lag{lag}'] = df.groupby(['local_authority', 'size_category'])['log_value'].shift(lag)"
   ]
  },
  {
   "cell_type": "code",
   "execution_count": 13,
   "id": "6274b063",
   "metadata": {},
   "outputs": [
    {
     "name": "stdout",
     "output_type": "stream",
     "text": [
      "                            OLS Regression Results                            \n",
      "==============================================================================\n",
      "Dep. Variable:           removal_rate   R-squared:                       0.258\n",
      "Model:                            OLS   Adj. R-squared:                  0.255\n",
      "Method:                 Least Squares   F-statistic:                     91.89\n",
      "Date:                Thu, 31 Jul 2025   Prob (F-statistic):          2.96e-323\n",
      "Time:                        22:09:08   Log-Likelihood:                 13302.\n",
      "No. Observations:                5304   AIC:                        -2.656e+04\n",
      "Df Residuals:                    5283   BIC:                        -2.642e+04\n",
      "Df Model:                          20                                         \n",
      "Covariance Type:            nonrobust                                         \n",
      "=============================================================================================================\n",
      "                                                coef    std err          t      P>|t|      [0.025      0.975]\n",
      "-------------------------------------------------------------------------------------------------------------\n",
      "Intercept                                     0.0036      0.001      4.164      0.000       0.002       0.005\n",
      "C(financial_year)[T.2016]                  4.997e-18    1.4e-18      3.563      0.000    2.25e-18    7.75e-18\n",
      "C(financial_year)[T.2017]                  3.802e-18   6.04e-19      6.297      0.000    2.62e-18    4.99e-18\n",
      "C(financial_year)[T.2018]                     0.0025      0.001      3.927      0.000       0.001       0.004\n",
      "C(financial_year)[T.2019]                     0.0054      0.001      8.694      0.000       0.004       0.007\n",
      "C(financial_year)[T.2020]                    -0.0040      0.001     -6.289      0.000      -0.005      -0.003\n",
      "C(financial_year)[T.2021]                     0.0048      0.001      7.676      0.000       0.004       0.006\n",
      "C(financial_year)[T.2022]                    -0.0026      0.001     -4.176      0.000      -0.004      -0.001\n",
      "C(financial_year)[T.2023]                    -0.0025      0.001     -3.961      0.000      -0.004      -0.001\n",
      "C(size_category)[T.Medium]                    0.0114      0.001      9.556      0.000       0.009       0.014\n",
      "C(size_category)[T.Small]                     0.0256      0.001     21.488      0.000       0.023       0.028\n",
      "log_value                                 -9.306e-05      0.001     -0.121      0.903      -0.002       0.001\n",
      "log_value:C(size_category)[T.Medium]         -0.0005      0.001     -0.476      0.634      -0.003       0.002\n",
      "log_value:C(size_category)[T.Small]           0.0011      0.001      1.040      0.298      -0.001       0.003\n",
      "log_value_lag1                                0.0004      0.001      0.548      0.584      -0.001       0.002\n",
      "log_value_lag1:C(size_category)[T.Medium]    -0.0010      0.001     -0.910      0.363      -0.003       0.001\n",
      "log_value_lag1:C(size_category)[T.Small]     -0.0014      0.001     -1.213      0.225      -0.004       0.001\n",
      "log_value_lag2                               -0.0008      0.001     -0.973      0.330      -0.002       0.001\n",
      "log_value_lag2:C(size_category)[T.Medium]     0.0014      0.001      1.152      0.249      -0.001       0.004\n",
      "log_value_lag2:C(size_category)[T.Small]      0.0018      0.001      1.490      0.136      -0.001       0.004\n",
      "log_value_lag3                                0.0011      0.001      1.399      0.162      -0.000       0.003\n",
      "log_value_lag3:C(size_category)[T.Medium]    -0.0017      0.001     -1.492      0.136      -0.004       0.001\n",
      "log_value_lag3:C(size_category)[T.Small]     -0.0011      0.001     -0.987      0.324      -0.003       0.001\n",
      "imd_score                                     0.0001   3.61e-05      3.520      0.000    5.63e-05       0.000\n",
      "==============================================================================\n",
      "Omnibus:                     6431.932   Durbin-Watson:                   2.024\n",
      "Prob(Omnibus):                  0.000   Jarque-Bera (JB):          1289907.407\n",
      "Skew:                           6.323   Prob(JB):                         0.00\n",
      "Kurtosis:                      78.344   Cond. No.                     1.38e+18\n",
      "==============================================================================\n",
      "\n",
      "Notes:\n",
      "[1] Standard Errors assume that the covariance matrix of the errors is correctly specified.\n",
      "[2] The smallest eigenvalue is 1.31e-30. This might indicate that there are\n",
      "strong multicollinearity problems or that the design matrix is singular.\n"
     ]
    }
   ],
   "source": [
    "model = smf.ols(\n",
    "    formula=(\n",
    "        'removal_rate ~ '\n",
    "        'log_value + log_value_lag1 + log_value_lag2 + log_value_lag3 + '\n",
    "        'C(financial_year) + C(size_category) + imd_score +'\n",
    "        'log_value:C(size_category) + '\n",
    "        'log_value_lag1:C(size_category) + '\n",
    "        'log_value_lag2:C(size_category) + '\n",
    "        'log_value_lag3:C(size_category)'\n",
    "    ),\n",
    "    data=df\n",
    ").fit()\n",
    "\n",
    "print(model.summary())"
   ]
  }
 ],
 "metadata": {
  "kernelspec": {
   "display_name": "Python 3",
   "language": "python",
   "name": "python3"
  },
  "language_info": {
   "codemirror_mode": {
    "name": "ipython",
    "version": 3
   },
   "file_extension": ".py",
   "mimetype": "text/x-python",
   "name": "python",
   "nbconvert_exporter": "python",
   "pygments_lexer": "ipython3",
   "version": "3.13.3"
  }
 },
 "nbformat": 4,
 "nbformat_minor": 5
}
