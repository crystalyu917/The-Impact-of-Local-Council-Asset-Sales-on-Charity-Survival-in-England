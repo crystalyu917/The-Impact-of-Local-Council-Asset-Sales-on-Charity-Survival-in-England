{
 "cells": [
  {
   "cell_type": "code",
   "execution_count": null,
   "id": "49915ccc",
   "metadata": {},
   "outputs": [],
   "source": [
    "import pandas as pd\n",
    "import matplotlib.pyplot as plt"
   ]
  },
  {
   "cell_type": "code",
   "execution_count": null,
   "id": "8a007690",
   "metadata": {},
   "outputs": [],
   "source": [
    "filtered_df = pd.read_csv(r'../../data/processed/final_panel_data.csv')"
   ]
  },
  {
   "cell_type": "code",
   "execution_count": null,
   "id": "972823b1",
   "metadata": {},
   "outputs": [],
   "source": [
    "# Group by financial year and sum the values\n",
    "yearly_totals = filtered_df.groupby('financial_year')['value'].sum().reset_index()\n",
    "\n",
    "# Plot\n",
    "plt.figure(figsize=(10, 6))\n",
    "plt.bar(yearly_totals['financial_year'], yearly_totals['value'])\n",
    "\n",
    "plt.title('Total UK Council Fixed Asset Disposal Receipt Value by Financial Year')\n",
    "plt.xlabel('Financial Year')\n",
    "plt.ylabel('Total Disposal Receipt Value (£ millions)')\n",
    "\n",
    "# Ensure all years are shown\n",
    "plt.xticks(ticks=yearly_totals['financial_year'], rotation=45)\n",
    "\n",
    "plt.grid(True, axis='y')\n",
    "plt.tight_layout()\n",
    "plt.show()\n"
   ]
  },
  {
   "cell_type": "code",
   "execution_count": null,
   "id": "1d8c07c2",
   "metadata": {},
   "outputs": [],
   "source": [
    "# Group and find top 5 councils per year\n",
    "top8_per_year = (\n",
    "    filtered_df.groupby(['financial_year', 'local_authority'])['value']\n",
    "    .sum()\n",
    "    .reset_index()\n",
    "    .sort_values(['financial_year', 'value'], ascending=[True, False])\n",
    "    .groupby('financial_year')\n",
    "    .head(8)\n",
    ")\n",
    "\n",
    "# Pivot the table for plotting\n",
    "pivot_top8 = top8_per_year.pivot(index='local_authority', columns='financial_year', values='value')\n",
    "\n",
    "# Plotting\n",
    "pivot_top8.plot(kind='bar', figsize=(12, 7))\n",
    "\n",
    "plt.ylabel('Capital Receipts (Million GBP)')\n",
    "plt.title('Top 8 Local Authorities - All Services Total by Year')\n",
    "plt.xticks(rotation=45, ha='right')\n",
    "plt.legend(title='Financial Year')\n",
    "plt.tight_layout()\n",
    "plt.show()\n",
    "\n"
   ]
  },
  {
   "cell_type": "code",
   "execution_count": null,
   "id": "57d1b3b6",
   "metadata": {},
   "outputs": [],
   "source": [
    "# 1. Get top 8 councils for each year\n",
    "top8_each_year = (\n",
    "    filtered_df.groupby(['financial_year', 'local_authority'])['value']\n",
    "    .sum()\n",
    "    .reset_index()\n",
    "    .sort_values(['financial_year', 'value'], ascending=[True, False])\n",
    "    .groupby('financial_year')\n",
    "    .head(8)\n",
    ")\n",
    "\n",
    "# 2. Get unique councils that were ever top 8\n",
    "top_councils = top8_each_year['local_authority'].unique()\n",
    "\n",
    "# 3. Filter original data for these councils\n",
    "df_top_councils = filtered_df[filtered_df['local_authority'].isin(top_councils)]\n",
    "\n",
    "# 4. Pivot for line plot\n",
    "pivot_df = (\n",
    "    df_top_councils.groupby(['financial_year', 'local_authority'])['value']\n",
    "    .sum()\n",
    "    .reset_index()\n",
    "    .pivot(index='financial_year', columns='local_authority', values='value')\n",
    ")\n",
    "\n",
    "# 5. Plot line graph\n",
    "pivot_df.plot(figsize=(12, 7), marker='o')\n",
    "\n",
    "plt.ylabel('Capital Receipts (Million GBP)')\n",
    "plt.title('Capital Receipts Over Time - Councils Ever in Top 8 Any Year')\n",
    "plt.xticks(rotation=45)\n",
    "plt.legend(title='Local Authority', bbox_to_anchor=(1.05, 1), loc='upper left')\n",
    "plt.tight_layout()\n",
    "plt.show()\n"
   ]
  }
 ],
 "metadata": {
  "kernelspec": {
   "display_name": "Python 3",
   "language": "python",
   "name": "python3"
  },
  "language_info": {
   "codemirror_mode": {
    "name": "ipython",
    "version": 3
   },
   "file_extension": ".py",
   "mimetype": "text/x-python",
   "name": "python",
   "nbconvert_exporter": "python",
   "pygments_lexer": "ipython3",
   "version": "3.13.3"
  }
 },
 "nbformat": 4,
 "nbformat_minor": 5
}
